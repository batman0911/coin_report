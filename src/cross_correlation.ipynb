{
 "cells": [
  {
   "cell_type": "code",
   "execution_count": 2,
   "metadata": {
    "collapsed": true,
    "pycharm": {
     "name": "#%%\n"
    }
   },
   "outputs": [],
   "source": [
    "import numpy as np\n",
    "import pandas as pd\n",
    "import matplotlib.pyplot as plt\n",
    "import pylab\n",
    "from sklearn import linear_model\n",
    "import scipy.stats as stats\n",
    "from scipy import signal\n",
    "import statsmodels.api as sm\n",
    "from datetime import datetime"
   ]
  },
  {
   "cell_type": "code",
   "execution_count": 3,
   "outputs": [
    {
     "data": {
      "text/plain": "         Date     Open     High      Low    Close\n0  2019-05-24  2841.94  2868.88  2805.49  2826.06\n1  2019-05-31  2830.03  2840.51  2750.52  2752.06\n2  2019-06-07  2751.53  2884.97  2728.81  2873.34\n3  2019-06-14  2885.83  2910.61  2874.68  2886.98\n4  2019-06-21  2889.75  2964.15  2887.30  2950.46",
      "text/html": "<div>\n<style scoped>\n    .dataframe tbody tr th:only-of-type {\n        vertical-align: middle;\n    }\n\n    .dataframe tbody tr th {\n        vertical-align: top;\n    }\n\n    .dataframe thead th {\n        text-align: right;\n    }\n</style>\n<table border=\"1\" class=\"dataframe\">\n  <thead>\n    <tr style=\"text-align: right;\">\n      <th></th>\n      <th>Date</th>\n      <th>Open</th>\n      <th>High</th>\n      <th>Low</th>\n      <th>Close</th>\n    </tr>\n  </thead>\n  <tbody>\n    <tr>\n      <th>0</th>\n      <td>2019-05-24</td>\n      <td>2841.94</td>\n      <td>2868.88</td>\n      <td>2805.49</td>\n      <td>2826.06</td>\n    </tr>\n    <tr>\n      <th>1</th>\n      <td>2019-05-31</td>\n      <td>2830.03</td>\n      <td>2840.51</td>\n      <td>2750.52</td>\n      <td>2752.06</td>\n    </tr>\n    <tr>\n      <th>2</th>\n      <td>2019-06-07</td>\n      <td>2751.53</td>\n      <td>2884.97</td>\n      <td>2728.81</td>\n      <td>2873.34</td>\n    </tr>\n    <tr>\n      <th>3</th>\n      <td>2019-06-14</td>\n      <td>2885.83</td>\n      <td>2910.61</td>\n      <td>2874.68</td>\n      <td>2886.98</td>\n    </tr>\n    <tr>\n      <th>4</th>\n      <td>2019-06-21</td>\n      <td>2889.75</td>\n      <td>2964.15</td>\n      <td>2887.30</td>\n      <td>2950.46</td>\n    </tr>\n  </tbody>\n</table>\n</div>"
     },
     "execution_count": 3,
     "metadata": {},
     "output_type": "execute_result"
    }
   ],
   "source": [
    "coin_week = pd.read_csv('../files/coin_weeks_2019_2022.csv')\n",
    "sp_week = pd.read_csv('../files/sp_500_weeks_2019_2022.csv')\n",
    "coin_week.head()\n",
    "sp_week.head()"
   ],
   "metadata": {
    "collapsed": false,
    "pycharm": {
     "name": "#%%\n"
    }
   }
  },
  {
   "cell_type": "code",
   "execution_count": 4,
   "outputs": [
    {
     "name": "stdout",
     "output_type": "stream",
     "text": [
      "[   0   -1   -2   -3   -4   -5   -6   -7   -8   -9  -10  -11  -12  -13\n",
      "  -14  -15  -16  -17  -18  -19  -20  -21  -22  -23  -24  -25  -26  -27\n",
      "  -28  -29  -30  -31  -32  -33  -34  -35  -36  -37  -38  -39  -40  -41\n",
      "  -42  -43  -44  -45  -46  -47  -48  -49  -50  -51  -52  -53  -54  -55\n",
      "  -56  -57  -58  -59  -60  -61  -62  -63  -64  -65  -66  -67  -68  -69\n",
      "  -70  -71  -72  -73  -74  -75  -76  -77  -78  -79  -80  -81  -82  -83\n",
      "  -84  -85  -86  -87  -88  -89  -90  -91  -92  -93  -94  -95  -96  -97\n",
      "  -98  -99 -100 -101 -102 -103 -104 -105 -106 -107 -108 -109 -110 -111\n",
      " -112 -113 -114 -115 -116 -117 -118 -119 -120 -121 -122 -123 -124 -125\n",
      " -126 -127 -128 -129 -130 -131 -132 -133 -134 -135 -136 -137 -138 -139\n",
      " -140 -141 -142 -143 -144 -145 -146 -147 -148 -149 -150 -151 -152 -153\n",
      " -154 -155]\n"
     ]
    },
    {
     "data": {
      "text/plain": "[<matplotlib.lines.Line2D at 0x7ff75053ec70>]"
     },
     "execution_count": 4,
     "metadata": {},
     "output_type": "execute_result"
    },
    {
     "data": {
      "text/plain": "<Figure size 432x288 with 1 Axes>",
      "image/png": "[encoded data removed]"
     },
     "metadata": {
      "needs_background": "light"
     },
     "output_type": "display_data"
    }
   ],
   "source": [
    "ccr = sm.tsa.stattools.ccf(coin_week['High'], sp_week['High'], adjusted=False)\n",
    "lags = np.arange(0,len(ccr))\n",
    "lags = -lags\n",
    "print(lags)\n",
    "plt.plot(lags, ccr, '.')"
   ],
   "metadata": {
    "collapsed": false,
    "pycharm": {
     "name": "#%%\n"
    }
   }
  },
  {
   "cell_type": "code",
   "execution_count": 5,
   "outputs": [
    {
     "data": {
      "text/plain": "[<matplotlib.lines.Line2D at 0x7ff74e4427c0>]"
     },
     "execution_count": 5,
     "metadata": {},
     "output_type": "execute_result"
    },
    {
     "data": {
      "text/plain": "<Figure size 432x288 with 1 Axes>",
      "image/png": "[encoded data removed]"
     },
     "metadata": {
      "needs_background": "light"
     },
     "output_type": "display_data"
    }
   ],
   "source": [
    "type(ccr)\n",
    "ccr40 = ccr[0:40]\n",
    "lags40 = - np.arange(0,40)\n",
    "\n",
    "plt.plot(lags40, ccr40, '.')"
   ],
   "metadata": {
    "collapsed": false,
    "pycharm": {
     "name": "#%%\n"
    }
   }
  },
  {
   "cell_type": "code",
   "execution_count": 6,
   "outputs": [],
   "source": [
    "X = sm.add_constant(lags40)\n",
    "model = sm.OLS(ccr40, X).fit()"
   ],
   "metadata": {
    "collapsed": false,
    "pycharm": {
     "name": "#%%\n"
    }
   }
  },
  {
   "cell_type": "code",
   "execution_count": 7,
   "outputs": [
    {
     "name": "stdout",
     "output_type": "stream",
     "text": [
      "[0.94509397 0.01775476]\n",
      "[3.25591444e-50 3.20983913e-36]\n"
     ]
    }
   ],
   "source": [
    "print(model.params)\n",
    "print(model.pvalues)"
   ],
   "metadata": {
    "collapsed": false,
    "pycharm": {
     "name": "#%%\n"
    }
   }
  },
  {
   "cell_type": "code",
   "execution_count": 27,
   "outputs": [
    {
     "data": {
      "text/plain": "Text(0.5, 1.0, 'log(1 - ccr) ~ lags')"
     },
     "execution_count": 27,
     "metadata": {},
     "output_type": "execute_result"
    },
    {
     "data": {
      "text/plain": "<Figure size 432x288 with 4 Axes>",
      "image/png": "[encoded data removed]"
     },
     "metadata": {
      "needs_background": "light"
     },
     "output_type": "display_data"
    }
   ],
   "source": [
    "figure, axis = plt.subplots(2, 2)\n",
    "axis[0, 0].plot(lags, ccr, '.')\n",
    "axis[0, 0].set_title(\"ccr ~ lags\")\n",
    "axis[0, 1].plot(lags, 1 - ccr, '.')\n",
    "axis[0, 1].set_title(\"1 - ccr ~ lags\")\n",
    "axis[1, 0].plot(lags, np.log(1 - ccr), '.')\n",
    "axis[1, 0].set_title(\"log(1 - ccr) ~ lags\")"
   ],
   "metadata": {
    "collapsed": false,
    "pycharm": {
     "name": "#%%\n"
    }
   }
  }
 ],
 "metadata": {
  "kernelspec": {
   "display_name": "Python 3",
   "language": "python",
   "name": "python3"
  },
  "language_info": {
   "codemirror_mode": {
    "name": "ipython",
    "version": 2
   },
   "file_extension": ".py",
   "mimetype": "text/x-python",
   "name": "python",
   "nbconvert_exporter": "python",
   "pygments_lexer": "ipython2",
   "version": "2.7.6"
  }
 },
 "nbformat": 4,
 "nbformat_minor": 0
}