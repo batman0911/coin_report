{
 "cells": [
  {
   "cell_type": "code",
   "execution_count": 1,
   "metadata": {
    "collapsed": true,
    "pycharm": {
     "name": "#%%\n"
    }
   },
   "outputs": [],
   "source": [
    "import pandas as pd\n",
    "import matplotlib.pyplot as plt\n",
    "from matplotlib.pyplot import figure\n",
    "import statsmodels.api as sm"
   ]
  },
  {
   "cell_type": "code",
   "execution_count": 2,
   "outputs": [
    {
     "name": "stdout",
     "output_type": "stream",
     "text": [
      "<class 'pandas.core.frame.DataFrame'>\n",
      "RangeIndex: 1092 entries, 0 to 1091\n",
      "Data columns (total 7 columns):\n",
      " #   Column     Non-Null Count  Dtype         \n",
      "---  ------     --------------  -----         \n",
      " 0   Date       1092 non-null   datetime64[ns]\n",
      " 1   Open       1092 non-null   float64       \n",
      " 2   High       1092 non-null   float64       \n",
      " 3   Low        1092 non-null   float64       \n",
      " 4   Close      1092 non-null   float64       \n",
      " 5   Adj Close  1092 non-null   float64       \n",
      " 6   Volume     1092 non-null   int64         \n",
      "dtypes: datetime64[ns](1), float64(5), int64(1)\n",
      "memory usage: 59.8 KB\n"
     ]
    }
   ],
   "source": [
    "coin_day = pd.read_csv('../files/BTC-USD.csv', parse_dates=['Date'])\n",
    "coin_day.head()\n",
    "coin_day.info()"
   ],
   "metadata": {
    "collapsed": false,
    "pycharm": {
     "name": "#%%\n"
    }
   }
  },
  {
   "cell_type": "markdown",
   "source": [
    "Tính trung bình theo tuần"
   ],
   "metadata": {
    "collapsed": false,
    "pycharm": {
     "name": "#%% md\n"
    }
   }
  },
  {
   "cell_type": "code",
   "execution_count": 3,
   "outputs": [],
   "source": [
    "coin_day.reset_index()\n",
    "week_size = int(len(coin_day) / 7)\n",
    "coin_week = pd.DataFrame(columns=['Date', 'Open', 'High', 'Low', 'Close'])\n",
    "for i in range(week_size):\n",
    "    # print(i)\n",
    "    sum_day = coin_day[['Open', 'High', 'Low', 'Close']].iloc[i*7: (i+1)*7].sum()/7\n",
    "    sum_day['Date'] = coin_day['Date'].iloc[i*7 + 4]\n",
    "    coin_week.loc[i] = sum_day\n",
    "    # print(coin_week.iloc[i])\n",
    "\n",
    "coin_week.head()\n",
    "coin_week.index.name = 'week_20190520'\n",
    "coin_week.to_csv('../files/coin_weeks_2019_2022.csv', index=False)"
   ],
   "metadata": {
    "collapsed": false,
    "pycharm": {
     "name": "#%%\n"
    }
   }
  },
  {
   "cell_type": "code",
   "execution_count": 4,
   "outputs": [
    {
     "data": {
      "text/plain": "Text(0.5, 1.0, 'Distribution of BTC price (week mean)')"
     },
     "execution_count": 4,
     "metadata": {},
     "output_type": "execute_result"
    },
    {
     "data": {
      "text/plain": "<Figure size 640x480 with 1 Axes>",
      "image/png": "[encoded data removed]"
     },
     "metadata": {
      "needs_background": "light"
     },
     "output_type": "display_data"
    }
   ],
   "source": [
    "figure(figsize=(8,6), dpi=80)\n",
    "plt.hist(coin_week['High'], bins=100)\n",
    "plt.xlabel('BTC price', fontsize = 16)\n",
    "plt.ylabel('Hist', fontsize = 16)\n",
    "plt.title('Distribution of BTC price (week mean)', fontsize = 16)"
   ],
   "metadata": {
    "collapsed": false,
    "pycharm": {
     "name": "#%%\n"
    }
   }
  },
  {
   "cell_type": "code",
   "execution_count": 57,
   "outputs": [
    {
     "data": {
      "text/plain": "[<matplotlib.lines.Line2D at 0x7f7424641d90>]"
     },
     "execution_count": 57,
     "metadata": {},
     "output_type": "execute_result"
    },
    {
     "data": {
      "text/plain": "<Figure size 432x288 with 1 Axes>",
      "image/png": "[encoded data removed]"
     },
     "metadata": {
      "needs_background": "light"
     },
     "output_type": "display_data"
    }
   ],
   "source": [
    "plt.plot(coin_week['High'], coin_week['Open'], '.')"
   ],
   "metadata": {
    "collapsed": false,
    "pycharm": {
     "name": "#%%\n"
    }
   }
  },
  {
   "cell_type": "markdown",
   "source": [
    "Thử fit mô hình tuyến tính, nhận thấy có thể bỏ hệ số tự do"
   ],
   "metadata": {
    "collapsed": false,
    "pycharm": {
     "name": "#%% md\n"
    }
   }
  },
  {
   "cell_type": "code",
   "execution_count": 59,
   "outputs": [
    {
     "name": "stdout",
     "output_type": "stream",
     "text": [
      "const   -16.733997\n",
      "Open      1.026380\n",
      "dtype: float64\n",
      "const     7.150735e-01\n",
      "Open     3.270093e-274\n",
      "dtype: float64\n"
     ]
    }
   ],
   "source": [
    "X = sm.add_constant(coin_week['Open'])\n",
    "model_week_high_open = sm.OLS(coin_week['High'], X).fit()\n",
    "print(model_week_high_open.params)\n",
    "print(model_week_high_open.pvalues)"
   ],
   "metadata": {
    "collapsed": false,
    "pycharm": {
     "name": "#%%\n"
    }
   }
  },
  {
   "cell_type": "code",
   "execution_count": 60,
   "outputs": [
    {
     "name": "stdout",
     "output_type": "stream",
     "text": [
      "Open    1.025959\n",
      "dtype: float64\n",
      "Open    7.657841e-313\n",
      "dtype: float64\n"
     ]
    }
   ],
   "source": [
    "model_week_high_open = sm.OLS(coin_week['High'], coin_week['Open']).fit()\n",
    "print(model_week_high_open.params)\n",
    "print(model_week_high_open.pvalues)"
   ],
   "metadata": {
    "collapsed": false,
    "pycharm": {
     "name": "#%%\n"
    }
   }
  }
 ],
 "metadata": {
  "kernelspec": {
   "display_name": "Python 3",
   "language": "python",
   "name": "python3"
  },
  "language_info": {
   "codemirror_mode": {
    "name": "ipython",
    "version": 2
   },
   "file_extension": ".py",
   "mimetype": "text/x-python",
   "name": "python",
   "nbconvert_exporter": "python",
   "pygments_lexer": "ipython2",
   "version": "2.7.6"
  }
 },
 "nbformat": 4,
 "nbformat_minor": 0
}