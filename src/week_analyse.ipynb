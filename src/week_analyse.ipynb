{
 "cells": [
  {
   "cell_type": "code",
   "execution_count": 1,
   "metadata": {
    "collapsed": true,
    "pycharm": {
     "name": "#%%\n"
    }
   },
   "outputs": [],
   "source": [
    "import numpy as np\n",
    "import pandas as pd\n",
    "import matplotlib.pyplot as plt\n",
    "import pylab\n",
    "from sklearn import linear_model\n",
    "import scipy.stats as stats\n",
    "import statsmodels.api as sm\n",
    "from datetime import datetime"
   ]
  },
  {
   "cell_type": "code",
   "execution_count": 2,
   "outputs": [
    {
     "name": "stdout",
     "output_type": "stream",
     "text": [
      "<class 'pandas.core.frame.DataFrame'>\n",
      "RangeIndex: 1092 entries, 0 to 1091\n",
      "Data columns (total 7 columns):\n",
      " #   Column     Non-Null Count  Dtype         \n",
      "---  ------     --------------  -----         \n",
      " 0   Date       1092 non-null   datetime64[ns]\n",
      " 1   Open       1092 non-null   float64       \n",
      " 2   High       1092 non-null   float64       \n",
      " 3   Low        1092 non-null   float64       \n",
      " 4   Close      1092 non-null   float64       \n",
      " 5   Adj Close  1092 non-null   float64       \n",
      " 6   Volume     1092 non-null   int64         \n",
      "dtypes: datetime64[ns](1), float64(5), int64(1)\n",
      "memory usage: 59.8 KB\n"
     ]
    }
   ],
   "source": [
    "coin_day = pd.read_csv('../files/BTC-USD.csv', parse_dates=['Date'])\n",
    "coin_day.head()\n",
    "coin_day.info()"
   ],
   "metadata": {
    "collapsed": false,
    "pycharm": {
     "name": "#%%\n"
    }
   }
  },
  {
   "cell_type": "markdown",
   "source": [
    "Tính trung bình theo tuần"
   ],
   "metadata": {
    "collapsed": false,
    "pycharm": {
     "name": "#%% md\n"
    }
   }
  },
  {
   "cell_type": "code",
   "execution_count": 3,
   "outputs": [],
   "source": [
    "coin_day.reset_index()\n",
    "week_size = int(len(coin_day) / 7)\n",
    "coin_week = pd.DataFrame(columns=['Date', 'Open', 'High', 'Low', 'Close'])\n",
    "for i in range(week_size):\n",
    "    # print(i)\n",
    "    sum_day = coin_day[['Open', 'High', 'Low', 'Close']].iloc[i*7: (i+1)*7].sum()/7\n",
    "    sum_day['Date'] = coin_day['Date'].iloc[i*7 + 4]\n",
    "    coin_week.loc[i] = sum_day\n",
    "    # print(coin_week.iloc[i])\n",
    "\n",
    "coin_week.head()\n",
    "coin_week.index.name = 'week_20190520'\n",
    "coin_week.to_csv('../files/coin_weeks_2019_2022.csv', index=False)"
   ],
   "metadata": {
    "collapsed": false,
    "pycharm": {
     "name": "#%%\n"
    }
   }
  },
  {
   "cell_type": "code",
   "execution_count": 4,
   "outputs": [
    {
     "data": {
      "text/plain": "(array([ 1.,  4.,  8.,  6., 10., 14.,  7., 11.,  3.,  8.,  2.,  1.,  1.,\n         0.,  1.,  0.,  1.,  0.,  0.,  0.,  2.,  1.,  1.,  0.,  0.,  0.,\n         1.,  0.,  0.,  0.,  0.,  1.,  0.,  0.,  0.,  0.,  0.,  0.,  0.,\n         1.,  0.,  0.,  1.,  0.,  2.,  0.,  0.,  3.,  2.,  0.,  0.,  1.,\n         5.,  1.,  3.,  2.,  1.,  2.,  3.,  1.,  3.,  1.,  1.,  4.,  0.,\n         1.,  0.,  1.,  1.,  3.,  3.,  1.,  2.,  2.,  1.,  0.,  0.,  0.,\n         1.,  3.,  0.,  0.,  1.,  2.,  0.,  2.,  1.,  1.,  3.,  0.,  0.,\n         1.,  0.,  3.,  0.,  1.,  0.,  0.,  0.,  1.]),\n array([6000.034598285715, 6606.383381768573, 7212.732165251429,\n        7819.080948734287, 8425.429732217144, 9031.7785157,\n        9638.12729918286, 10244.476082665715, 10850.824866148572,\n        11457.17364963143, 12063.522433114285, 12669.871216597145,\n        13276.22000008, 13882.568783562858, 14488.917567045715,\n        15095.266350528571, 15701.61513401143, 16307.963917494286,\n        16914.312700977145, 17520.66148446, 18127.010267942856,\n        18733.359051425716, 19339.70783490857, 19946.05661839143,\n        20552.405401874286, 21158.754185357142, 21765.10296884,\n        22371.451752322857, 22977.800535805713, 23584.149319288572,\n        24190.498102771428, 24796.846886254287, 25403.195669737142,\n        26009.544453219998, 26615.893236702857, 27222.242020185713,\n        27828.590803668572, 28434.939587151428, 29041.288370634284,\n        29647.637154117143, 30253.9859376, 30860.334721082858,\n        31466.683504565714, 32073.03228804857, 32679.38107153143,\n        33285.72985501429, 33892.07863849714, 34498.42742198,\n        35104.77620546286, 35711.12498894572, 36317.47377242857,\n        36923.82255591143, 37530.171339394285, 38136.52012287715,\n        38742.86890636, 39349.21768984286, 39955.566473325714,\n        40561.91525680858, 41168.26404029143, 41774.61282377429,\n        42380.961607257144, 42987.31039074, 43593.65917422286,\n        44200.00795770572, 44806.356741188574, 45412.70552467143,\n        46019.054308154286, 46625.40309163715, 47231.751875120004,\n        47838.10065860286, 48444.449442085715, 49050.79822556857,\n        49657.147009051434, 50263.49579253429, 50869.844576017145,\n        51476.1933595, 52082.54214298286, 52688.89092646572,\n        53295.239709948575, 53901.58849343143, 54507.93727691429,\n        55114.28606039714, 55720.634843880005, 56326.98362736286,\n        56933.33241084572, 57539.68119432857, 58146.02997781143,\n        58752.37876129429, 59358.727544777146, 59965.07632826,\n        60571.42511174286, 61177.77389522571, 61784.122678708576,\n        62390.47146219143, 62996.82024567429, 63603.16902915714,\n        64209.517812640006, 64815.86659612286, 65422.21537960572,\n        66028.56416308857, 66634.91294657144], dtype=object),\n <BarContainer object of 100 artists>)"
     },
     "execution_count": 4,
     "metadata": {},
     "output_type": "execute_result"
    },
    {
     "data": {
      "text/plain": "<Figure size 432x288 with 1 Axes>",
      "image/png": "[encoded data removed]"
     },
     "metadata": {
      "needs_background": "light"
     },
     "output_type": "display_data"
    }
   ],
   "source": [
    "plt.hist(coin_week['High'], bins=100)"
   ],
   "metadata": {
    "collapsed": false,
    "pycharm": {
     "name": "#%%\n"
    }
   }
  },
  {
   "cell_type": "code",
   "execution_count": 57,
   "outputs": [
    {
     "data": {
      "text/plain": "[<matplotlib.lines.Line2D at 0x7f7424641d90>]"
     },
     "execution_count": 57,
     "metadata": {},
     "output_type": "execute_result"
    },
    {
     "data": {
      "text/plain": "<Figure size 432x288 with 1 Axes>",
      "image/png": "[encoded data removed]"
     },
     "metadata": {
      "needs_background": "light"
     },
     "output_type": "display_data"
    }
   ],
   "source": [
    "plt.plot(coin_week['High'], coin_week['Open'], '.')"
   ],
   "metadata": {
    "collapsed": false,
    "pycharm": {
     "name": "#%%\n"
    }
   }
  },
  {
   "cell_type": "markdown",
   "source": [
    "Thử fit mô hình tuyến tính, nhận thấy có thể bỏ hệ số tự do"
   ],
   "metadata": {
    "collapsed": false,
    "pycharm": {
     "name": "#%% md\n"
    }
   }
  },
  {
   "cell_type": "code",
   "execution_count": 59,
   "outputs": [
    {
     "name": "stdout",
     "output_type": "stream",
     "text": [
      "const   -16.733997\n",
      "Open      1.026380\n",
      "dtype: float64\n",
      "const     7.150735e-01\n",
      "Open     3.270093e-274\n",
      "dtype: float64\n"
     ]
    }
   ],
   "source": [
    "X = sm.add_constant(coin_week['Open'])\n",
    "model_week_high_open = sm.OLS(coin_week['High'], X).fit()\n",
    "print(model_week_high_open.params)\n",
    "print(model_week_high_open.pvalues)"
   ],
   "metadata": {
    "collapsed": false,
    "pycharm": {
     "name": "#%%\n"
    }
   }
  },
  {
   "cell_type": "code",
   "execution_count": 60,
   "outputs": [
    {
     "name": "stdout",
     "output_type": "stream",
     "text": [
      "Open    1.025959\n",
      "dtype: float64\n",
      "Open    7.657841e-313\n",
      "dtype: float64\n"
     ]
    }
   ],
   "source": [
    "model_week_high_open = sm.OLS(coin_week['High'], coin_week['Open']).fit()\n",
    "print(model_week_high_open.params)\n",
    "print(model_week_high_open.pvalues)"
   ],
   "metadata": {
    "collapsed": false,
    "pycharm": {
     "name": "#%%\n"
    }
   }
  }
 ],
 "metadata": {
  "kernelspec": {
   "display_name": "Python 3",
   "language": "python",
   "name": "python3"
  },
  "language_info": {
   "codemirror_mode": {
    "name": "ipython",
    "version": 2
   },
   "file_extension": ".py",
   "mimetype": "text/x-python",
   "name": "python",
   "nbconvert_exporter": "python",
   "pygments_lexer": "ipython2",
   "version": "2.7.6"
  }
 },
 "nbformat": 4,
 "nbformat_minor": 0
}